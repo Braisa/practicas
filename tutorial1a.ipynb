{
 "cells": [
  {
   "cell_type": "markdown",
   "metadata": {},
   "source": [
    "# Introducción al Machine Learning\n",
    "\n",
    "\n"
   ]
  },
  {
   "cell_type": "markdown",
   "metadata": {},
   "source": [
    "Esta es una pequeña introducción la ML con el objetivo de cubrir conceptos basicos que son comunes a muchos modelos de ML antes de meternos con modelos mas complejos. Aqui se cubrira:\n",
    "\n",
    "- Como usar pandas dataframes\n",
    "\n",
    "- Tipos de algoritmos en Machine Learning\n",
    "\n",
    "- Train test split\n",
    "\n",
    "- Underfitting, overfitting\n",
    "\n",
    "- Train a simple model (Decision Tree)"
   ]
  },
  {
   "cell_type": "code",
   "execution_count": 1,
   "metadata": {},
   "outputs": [],
   "source": [
    "import pandas as pd\n",
    "from sklearn.model_selection import train_test_split\n",
    "from sklearn.tree import DecisionTreeClassifier\n",
    "from sklearn.metrics import accuracy_score"
   ]
  },
  {
   "cell_type": "markdown",
   "metadata": {},
   "source": [
    "## Pandas\n",
    "\n",
    "- Pandas es un paquete muy util para manipular datos tabulares en Python\n",
    "\n",
    "- Se utiliza ampliamente para preparar los datos antes de entrenar modelos\n",
    "\n",
    "- Maneja muchos tipos de archivos: csv, json, pickle, txt...\n"
   ]
  },
  {
   "cell_type": "code",
   "execution_count": 2,
   "metadata": {},
   "outputs": [],
   "source": [
    "## Como leer un archivo pickle con pandas\n",
    "path = 'df_Data.pickle'\n",
    "df = pd.read_pickle(path)"
   ]
  },
  {
   "cell_type": "markdown",
   "metadata": {},
   "source": [
    "Ahora tenemos nuestro archivo cargado en un DataFrame, que es basicamente una tabla de datos. "
   ]
  },
  {
   "cell_type": "code",
   "execution_count": 3,
   "metadata": {},
   "outputs": [
    {
     "data": {
      "text/html": [
       "<div>\n",
       "<style scoped>\n",
       "    .dataframe tbody tr th:only-of-type {\n",
       "        vertical-align: middle;\n",
       "    }\n",
       "\n",
       "    .dataframe tbody tr th {\n",
       "        vertical-align: top;\n",
       "    }\n",
       "\n",
       "    .dataframe thead th {\n",
       "        text-align: right;\n",
       "    }\n",
       "</style>\n",
       "<table border=\"1\" class=\"dataframe\">\n",
       "  <thead>\n",
       "    <tr style=\"text-align: right;\">\n",
       "      <th></th>\n",
       "      <th>Bp_DIRA_OWNPV</th>\n",
       "      <th>Bp_ENDVERTEX_Z</th>\n",
       "      <th>Bp_dtf_chi2</th>\n",
       "      <th>D0bar_AMAXDOCA</th>\n",
       "      <th>Bp_dtf_M</th>\n",
       "    </tr>\n",
       "  </thead>\n",
       "  <tbody>\n",
       "    <tr>\n",
       "      <th>0</th>\n",
       "      <td>0.999724</td>\n",
       "      <td>-36.3371</td>\n",
       "      <td>604.909180</td>\n",
       "      <td>0.004355</td>\n",
       "      <td>4984.371094</td>\n",
       "    </tr>\n",
       "    <tr>\n",
       "      <th>1</th>\n",
       "      <td>0.999985</td>\n",
       "      <td>66.5905</td>\n",
       "      <td>193.147156</td>\n",
       "      <td>0.002669</td>\n",
       "      <td>5126.588867</td>\n",
       "    </tr>\n",
       "    <tr>\n",
       "      <th>2</th>\n",
       "      <td>0.999956</td>\n",
       "      <td>43.5113</td>\n",
       "      <td>1120.280273</td>\n",
       "      <td>0.066824</td>\n",
       "      <td>5098.875000</td>\n",
       "    </tr>\n",
       "    <tr>\n",
       "      <th>3</th>\n",
       "      <td>0.999998</td>\n",
       "      <td>-56.3566</td>\n",
       "      <td>53.200436</td>\n",
       "      <td>0.045907</td>\n",
       "      <td>5137.095215</td>\n",
       "    </tr>\n",
       "    <tr>\n",
       "      <th>4</th>\n",
       "      <td>1.000000</td>\n",
       "      <td>44.0419</td>\n",
       "      <td>8.675973</td>\n",
       "      <td>0.003995</td>\n",
       "      <td>5066.122070</td>\n",
       "    </tr>\n",
       "  </tbody>\n",
       "</table>\n",
       "</div>"
      ],
      "text/plain": [
       "   Bp_DIRA_OWNPV  Bp_ENDVERTEX_Z  Bp_dtf_chi2  D0bar_AMAXDOCA     Bp_dtf_M\n",
       "0       0.999724        -36.3371   604.909180        0.004355  4984.371094\n",
       "1       0.999985         66.5905   193.147156        0.002669  5126.588867\n",
       "2       0.999956         43.5113  1120.280273        0.066824  5098.875000\n",
       "3       0.999998        -56.3566    53.200436        0.045907  5137.095215\n",
       "4       1.000000         44.0419     8.675973        0.003995  5066.122070"
      ]
     },
     "execution_count": 3,
     "metadata": {},
     "output_type": "execute_result"
    }
   ],
   "source": [
    "df.head() ### Muestra las primeras filas del DataFrame"
   ]
  },
  {
   "cell_type": "code",
   "execution_count": 4,
   "metadata": {},
   "outputs": [
    {
     "data": {
      "text/html": [
       "<div>\n",
       "<style scoped>\n",
       "    .dataframe tbody tr th:only-of-type {\n",
       "        vertical-align: middle;\n",
       "    }\n",
       "\n",
       "    .dataframe tbody tr th {\n",
       "        vertical-align: top;\n",
       "    }\n",
       "\n",
       "    .dataframe thead th {\n",
       "        text-align: right;\n",
       "    }\n",
       "</style>\n",
       "<table border=\"1\" class=\"dataframe\">\n",
       "  <thead>\n",
       "    <tr style=\"text-align: right;\">\n",
       "      <th></th>\n",
       "      <th>Bp_DIRA_OWNPV</th>\n",
       "      <th>Bp_ENDVERTEX_Z</th>\n",
       "      <th>Bp_dtf_chi2</th>\n",
       "      <th>D0bar_AMAXDOCA</th>\n",
       "      <th>Bp_dtf_M</th>\n",
       "    </tr>\n",
       "  </thead>\n",
       "  <tbody>\n",
       "    <tr>\n",
       "      <th>count</th>\n",
       "      <td>440035.000000</td>\n",
       "      <td>440035.000000</td>\n",
       "      <td>440035.000000</td>\n",
       "      <td>4.400350e+05</td>\n",
       "      <td>440035.000000</td>\n",
       "    </tr>\n",
       "    <tr>\n",
       "      <th>mean</th>\n",
       "      <td>0.999962</td>\n",
       "      <td>26.725120</td>\n",
       "      <td>532.548035</td>\n",
       "      <td>4.487421e-02</td>\n",
       "      <td>5382.586426</td>\n",
       "    </tr>\n",
       "    <tr>\n",
       "      <th>std</th>\n",
       "      <td>0.000114</td>\n",
       "      <td>45.031645</td>\n",
       "      <td>1280.392822</td>\n",
       "      <td>4.608537e-02</td>\n",
       "      <td>396.685730</td>\n",
       "    </tr>\n",
       "    <tr>\n",
       "      <th>min</th>\n",
       "      <td>0.995212</td>\n",
       "      <td>-363.674600</td>\n",
       "      <td>0.639358</td>\n",
       "      <td>5.530798e-07</td>\n",
       "      <td>4581.266602</td>\n",
       "    </tr>\n",
       "    <tr>\n",
       "      <th>25%</th>\n",
       "      <td>0.999977</td>\n",
       "      <td>-4.177650</td>\n",
       "      <td>70.049164</td>\n",
       "      <td>1.136289e-02</td>\n",
       "      <td>5109.548828</td>\n",
       "    </tr>\n",
       "    <tr>\n",
       "      <th>50%</th>\n",
       "      <td>0.999995</td>\n",
       "      <td>25.870300</td>\n",
       "      <td>263.482086</td>\n",
       "      <td>2.745107e-02</td>\n",
       "      <td>5272.873047</td>\n",
       "    </tr>\n",
       "    <tr>\n",
       "      <th>75%</th>\n",
       "      <td>0.999999</td>\n",
       "      <td>56.930700</td>\n",
       "      <td>615.407959</td>\n",
       "      <td>6.264498e-02</td>\n",
       "      <td>5533.601562</td>\n",
       "    </tr>\n",
       "    <tr>\n",
       "      <th>max</th>\n",
       "      <td>1.000000</td>\n",
       "      <td>403.235400</td>\n",
       "      <td>75029.093750</td>\n",
       "      <td>2.004595e-01</td>\n",
       "      <td>8145.925781</td>\n",
       "    </tr>\n",
       "  </tbody>\n",
       "</table>\n",
       "</div>"
      ],
      "text/plain": [
       "       Bp_DIRA_OWNPV  Bp_ENDVERTEX_Z    Bp_dtf_chi2  D0bar_AMAXDOCA  \\\n",
       "count  440035.000000   440035.000000  440035.000000    4.400350e+05   \n",
       "mean        0.999962       26.725120     532.548035    4.487421e-02   \n",
       "std         0.000114       45.031645    1280.392822    4.608537e-02   \n",
       "min         0.995212     -363.674600       0.639358    5.530798e-07   \n",
       "25%         0.999977       -4.177650      70.049164    1.136289e-02   \n",
       "50%         0.999995       25.870300     263.482086    2.745107e-02   \n",
       "75%         0.999999       56.930700     615.407959    6.264498e-02   \n",
       "max         1.000000      403.235400   75029.093750    2.004595e-01   \n",
       "\n",
       "            Bp_dtf_M  \n",
       "count  440035.000000  \n",
       "mean     5382.586426  \n",
       "std       396.685730  \n",
       "min      4581.266602  \n",
       "25%      5109.548828  \n",
       "50%      5272.873047  \n",
       "75%      5533.601562  \n",
       "max      8145.925781  "
      ]
     },
     "execution_count": 4,
     "metadata": {},
     "output_type": "execute_result"
    }
   ],
   "source": [
    "df.describe() ### Hace un resumen estadístico de las columnas "
   ]
  },
  {
   "cell_type": "code",
   "execution_count": 5,
   "metadata": {},
   "outputs": [
    {
     "data": {
      "text/plain": [
       "0         0.999724\n",
       "1         0.999985\n",
       "2         0.999956\n",
       "3         0.999998\n",
       "4         1.000000\n",
       "            ...   \n",
       "440030    0.999997\n",
       "440031    0.999996\n",
       "440032    0.999936\n",
       "440033    0.999993\n",
       "440034    0.999979\n",
       "Name: Bp_DIRA_OWNPV, Length: 440035, dtype: float64"
      ]
     },
     "execution_count": 5,
     "metadata": {},
     "output_type": "execute_result"
    }
   ],
   "source": [
    "#podemos llamar a columas:\n",
    "\n",
    "df['Bp_DIRA_OWNPV']"
   ]
  },
  {
   "cell_type": "code",
   "execution_count": 6,
   "metadata": {},
   "outputs": [
    {
     "data": {
      "text/html": [
       "<div>\n",
       "<style scoped>\n",
       "    .dataframe tbody tr th:only-of-type {\n",
       "        vertical-align: middle;\n",
       "    }\n",
       "\n",
       "    .dataframe tbody tr th {\n",
       "        vertical-align: top;\n",
       "    }\n",
       "\n",
       "    .dataframe thead th {\n",
       "        text-align: right;\n",
       "    }\n",
       "</style>\n",
       "<table border=\"1\" class=\"dataframe\">\n",
       "  <thead>\n",
       "    <tr style=\"text-align: right;\">\n",
       "      <th></th>\n",
       "      <th>Bp_DIRA_OWNPV</th>\n",
       "      <th>Bp_ENDVERTEX_Z</th>\n",
       "      <th>Bp_dtf_chi2</th>\n",
       "      <th>D0bar_AMAXDOCA</th>\n",
       "      <th>Bp_dtf_M</th>\n",
       "      <th>new_feature</th>\n",
       "    </tr>\n",
       "  </thead>\n",
       "  <tbody>\n",
       "    <tr>\n",
       "      <th>0</th>\n",
       "      <td>0.999724</td>\n",
       "      <td>-36.3371</td>\n",
       "      <td>604.909180</td>\n",
       "      <td>0.004355</td>\n",
       "      <td>4984.371094</td>\n",
       "      <td>hello :)</td>\n",
       "    </tr>\n",
       "    <tr>\n",
       "      <th>1</th>\n",
       "      <td>0.999985</td>\n",
       "      <td>66.5905</td>\n",
       "      <td>193.147156</td>\n",
       "      <td>0.002669</td>\n",
       "      <td>5126.588867</td>\n",
       "      <td>hello :)</td>\n",
       "    </tr>\n",
       "    <tr>\n",
       "      <th>2</th>\n",
       "      <td>0.999956</td>\n",
       "      <td>43.5113</td>\n",
       "      <td>1120.280273</td>\n",
       "      <td>0.066824</td>\n",
       "      <td>5098.875000</td>\n",
       "      <td>hello :)</td>\n",
       "    </tr>\n",
       "    <tr>\n",
       "      <th>3</th>\n",
       "      <td>0.999998</td>\n",
       "      <td>-56.3566</td>\n",
       "      <td>53.200436</td>\n",
       "      <td>0.045907</td>\n",
       "      <td>5137.095215</td>\n",
       "      <td>hello :)</td>\n",
       "    </tr>\n",
       "    <tr>\n",
       "      <th>4</th>\n",
       "      <td>1.000000</td>\n",
       "      <td>44.0419</td>\n",
       "      <td>8.675973</td>\n",
       "      <td>0.003995</td>\n",
       "      <td>5066.122070</td>\n",
       "      <td>hello :)</td>\n",
       "    </tr>\n",
       "  </tbody>\n",
       "</table>\n",
       "</div>"
      ],
      "text/plain": [
       "   Bp_DIRA_OWNPV  Bp_ENDVERTEX_Z  Bp_dtf_chi2  D0bar_AMAXDOCA     Bp_dtf_M  \\\n",
       "0       0.999724        -36.3371   604.909180        0.004355  4984.371094   \n",
       "1       0.999985         66.5905   193.147156        0.002669  5126.588867   \n",
       "2       0.999956         43.5113  1120.280273        0.066824  5098.875000   \n",
       "3       0.999998        -56.3566    53.200436        0.045907  5137.095215   \n",
       "4       1.000000         44.0419     8.675973        0.003995  5066.122070   \n",
       "\n",
       "  new_feature  \n",
       "0    hello :)  \n",
       "1    hello :)  \n",
       "2    hello :)  \n",
       "3    hello :)  \n",
       "4    hello :)  "
      ]
     },
     "execution_count": 6,
     "metadata": {},
     "output_type": "execute_result"
    }
   ],
   "source": [
    "#podemos crear columnas nuevas:\n",
    "df_dummie = df.copy()\n",
    "df_dummie['new_feature'] = 'hello :)'\n",
    "df_dummie.head()"
   ]
  },
  {
   "cell_type": "markdown",
   "metadata": {},
   "source": [
    "### Filtrar dataframes\n"
   ]
  },
  {
   "cell_type": "code",
   "execution_count": 7,
   "metadata": {},
   "outputs": [
    {
     "data": {
      "text/plain": [
       "399652"
      ]
     },
     "execution_count": 7,
     "metadata": {},
     "output_type": "execute_result"
    }
   ],
   "source": [
    "# podemos filtrar dataframes muy facilmente definiendo una condicion:\n",
    "\n",
    "condition = df['Bp_DIRA_OWNPV'] > 0.9999\n",
    "df_filtered = df[condition]\n",
    "len(df_filtered)"
   ]
  },
  {
   "cell_type": "markdown",
   "metadata": {},
   "source": [
    "Cada fila del dataset (también conocida como **instancia**) representa un evento físico en el que se detecta una posible desintegración del tipo  $B^+ \\rightarrow \\bar{D}^0 D_s^+ $. Para cada uno de estos eventos, se registran distintas variables físicas que describen propiedades del sistema reconstruido:\n",
    "\n",
    "- **`Bp_DIRA_OWNPV`**: Angulo entre el momento del meson $B^+$ respecto a su vértice primario (*Primary Vertex*, PV), es decir, donde se produjo. Es una medida de qué tan bien alineado está el vector de momento con la línea que une el punto de producción y el punto de decaimiento del  $B^+$ . Valores cercanos a 1 indican buena alineación (característico de una señal real).\n",
    "\n",
    "- **`Bp_ENDVERTEX_Z`**: Coordenada Z del vértice de decaimiento del  $B^+$. Básicamente, indica dónde (en el eje longitudinal del detector) se desintegró la partícula.\n",
    "\n",
    "- **`Bp_dtf_chi2`**: Valor de  $\\chi^2$  del ajuste cinemático del  $B^+$. Valores bajos indican un buen ajuste (mejor calidad del evento).\n",
    "\n",
    "- **`D0bar_AMAXDOCA`**: Máxima distancia de acercamiento (*Distance of Closest Approach*, DOCA) entre las partículas hijas del $ \\bar{D}^0 $. Si esta distancia es muy grande, puede indicar que las partículas no provienen de un mismo punto.\n",
    "\n",
    "- **`Bp_dtf_M`**: Masa invariante del  $B^+$  obtenida a partir del ajuste cinemático. \n"
   ]
  },
  {
   "cell_type": "markdown",
   "metadata": {},
   "source": [
    "## Entrenamiento de algoritmos de machine learning"
   ]
  },
  {
   "cell_type": "markdown",
   "metadata": {},
   "source": [
    "#### Tipos de algoritmos\n",
    "\n",
    "Los algoritmos de machine learning (aprendizaje automático) se dividen principalmente en dos tipos: aprendizaje supervisado y no supervisado. \n",
    "\n",
    "\n",
    "1. Aprendizaje Supervisado:\n",
    "\n",
    "- Los datos con los que entrenamos vienen etiquetados (sabemos la respuesta correcta de antemano).\n",
    "- El modelo aprende a partir de ejemplos con soluciones para poder predecir la respuesta para eventos nuevos sin etiquetar.\n",
    "- Puede ser de dos tipos:\n",
    "\n",
    "  - Regresión: predice números (ej: precio de casas).\n",
    "  - Clasificación: predice categorías (ej: señal vs. fondo).\n",
    "\n",
    "2. Aprendizaje No Supervisado:\n",
    "\n",
    "- Los datos no tienen etiquetas.\n",
    "- El modelo descubre patrones y grupos por sí solo.\n",
    "- Ejemplo: clusterización\n"
   ]
  },
  {
   "cell_type": "markdown",
   "metadata": {},
   "source": [
    "\n",
    "El primer algoritmo que vamos a entrenar tiene como objetivo diferenciar entre señal y fondo, algo muy común en el campo de la Física de Altas Energías. Este tipo de algoritmo se conoce como clasificador, y es un caso de aprendizaje supervisado. En nuestro caso tenemos nuestra ***señal*** simulada en df_MC.pickle, mientras que nuestro fondo son datos del experimento LHCb df_Data.pickle, que sabemos que tienen nada o una cantidad infima de señal, por lo que lo tomamos como ***fondo***."
   ]
  },
  {
   "cell_type": "markdown",
   "metadata": {},
   "source": [
    "Nuestro caso es el caso supervisado, ya que tenemos un archivo de simulacion (Monte Carlo) que se corresponde con nuestra señal, y un archivo de datos que se corresponden con el fondo. Lo primero que debemos hacer es etiquetar nuestros datos:"
   ]
  },
  {
   "cell_type": "code",
   "execution_count": 8,
   "metadata": {},
   "outputs": [
    {
     "data": {
      "text/html": [
       "<div>\n",
       "<style scoped>\n",
       "    .dataframe tbody tr th:only-of-type {\n",
       "        vertical-align: middle;\n",
       "    }\n",
       "\n",
       "    .dataframe tbody tr th {\n",
       "        vertical-align: top;\n",
       "    }\n",
       "\n",
       "    .dataframe thead th {\n",
       "        text-align: right;\n",
       "    }\n",
       "</style>\n",
       "<table border=\"1\" class=\"dataframe\">\n",
       "  <thead>\n",
       "    <tr style=\"text-align: right;\">\n",
       "      <th></th>\n",
       "      <th>Bp_DIRA_OWNPV</th>\n",
       "      <th>Bp_ENDVERTEX_Z</th>\n",
       "      <th>Bp_dtf_chi2</th>\n",
       "      <th>D0bar_AMAXDOCA</th>\n",
       "      <th>Bp_dtf_M</th>\n",
       "      <th>label</th>\n",
       "    </tr>\n",
       "  </thead>\n",
       "  <tbody>\n",
       "    <tr>\n",
       "      <th>0</th>\n",
       "      <td>0.999724</td>\n",
       "      <td>-36.3371</td>\n",
       "      <td>604.909180</td>\n",
       "      <td>0.004355</td>\n",
       "      <td>4984.371094</td>\n",
       "      <td>0</td>\n",
       "    </tr>\n",
       "    <tr>\n",
       "      <th>1</th>\n",
       "      <td>0.999985</td>\n",
       "      <td>66.5905</td>\n",
       "      <td>193.147156</td>\n",
       "      <td>0.002669</td>\n",
       "      <td>5126.588867</td>\n",
       "      <td>0</td>\n",
       "    </tr>\n",
       "    <tr>\n",
       "      <th>2</th>\n",
       "      <td>0.999956</td>\n",
       "      <td>43.5113</td>\n",
       "      <td>1120.280273</td>\n",
       "      <td>0.066824</td>\n",
       "      <td>5098.875000</td>\n",
       "      <td>0</td>\n",
       "    </tr>\n",
       "    <tr>\n",
       "      <th>3</th>\n",
       "      <td>0.999998</td>\n",
       "      <td>-56.3566</td>\n",
       "      <td>53.200436</td>\n",
       "      <td>0.045907</td>\n",
       "      <td>5137.095215</td>\n",
       "      <td>0</td>\n",
       "    </tr>\n",
       "    <tr>\n",
       "      <th>4</th>\n",
       "      <td>1.000000</td>\n",
       "      <td>44.0419</td>\n",
       "      <td>8.675973</td>\n",
       "      <td>0.003995</td>\n",
       "      <td>5066.122070</td>\n",
       "      <td>0</td>\n",
       "    </tr>\n",
       "    <tr>\n",
       "      <th>...</th>\n",
       "      <td>...</td>\n",
       "      <td>...</td>\n",
       "      <td>...</td>\n",
       "      <td>...</td>\n",
       "      <td>...</td>\n",
       "      <td>...</td>\n",
       "    </tr>\n",
       "    <tr>\n",
       "      <th>483855</th>\n",
       "      <td>0.999999</td>\n",
       "      <td>2.7691</td>\n",
       "      <td>4.619840</td>\n",
       "      <td>0.000426</td>\n",
       "      <td>NaN</td>\n",
       "      <td>1</td>\n",
       "    </tr>\n",
       "    <tr>\n",
       "      <th>483856</th>\n",
       "      <td>0.999997</td>\n",
       "      <td>-4.0556</td>\n",
       "      <td>13.866141</td>\n",
       "      <td>0.024470</td>\n",
       "      <td>NaN</td>\n",
       "      <td>1</td>\n",
       "    </tr>\n",
       "    <tr>\n",
       "      <th>483857</th>\n",
       "      <td>1.000000</td>\n",
       "      <td>9.8752</td>\n",
       "      <td>3.063880</td>\n",
       "      <td>0.001528</td>\n",
       "      <td>NaN</td>\n",
       "      <td>1</td>\n",
       "    </tr>\n",
       "    <tr>\n",
       "      <th>483858</th>\n",
       "      <td>1.000000</td>\n",
       "      <td>107.1379</td>\n",
       "      <td>16.460026</td>\n",
       "      <td>0.046119</td>\n",
       "      <td>NaN</td>\n",
       "      <td>1</td>\n",
       "    </tr>\n",
       "    <tr>\n",
       "      <th>483859</th>\n",
       "      <td>1.000000</td>\n",
       "      <td>111.2041</td>\n",
       "      <td>10.890905</td>\n",
       "      <td>0.003828</td>\n",
       "      <td>NaN</td>\n",
       "      <td>1</td>\n",
       "    </tr>\n",
       "  </tbody>\n",
       "</table>\n",
       "<p>483860 rows × 6 columns</p>\n",
       "</div>"
      ],
      "text/plain": [
       "        Bp_DIRA_OWNPV  Bp_ENDVERTEX_Z  Bp_dtf_chi2  D0bar_AMAXDOCA  \\\n",
       "0            0.999724        -36.3371   604.909180        0.004355   \n",
       "1            0.999985         66.5905   193.147156        0.002669   \n",
       "2            0.999956         43.5113  1120.280273        0.066824   \n",
       "3            0.999998        -56.3566    53.200436        0.045907   \n",
       "4            1.000000         44.0419     8.675973        0.003995   \n",
       "...               ...             ...          ...             ...   \n",
       "483855       0.999999          2.7691     4.619840        0.000426   \n",
       "483856       0.999997         -4.0556    13.866141        0.024470   \n",
       "483857       1.000000          9.8752     3.063880        0.001528   \n",
       "483858       1.000000        107.1379    16.460026        0.046119   \n",
       "483859       1.000000        111.2041    10.890905        0.003828   \n",
       "\n",
       "           Bp_dtf_M  label  \n",
       "0       4984.371094      0  \n",
       "1       5126.588867      0  \n",
       "2       5098.875000      0  \n",
       "3       5137.095215      0  \n",
       "4       5066.122070      0  \n",
       "...             ...    ...  \n",
       "483855          NaN      1  \n",
       "483856          NaN      1  \n",
       "483857          NaN      1  \n",
       "483858          NaN      1  \n",
       "483859          NaN      1  \n",
       "\n",
       "[483860 rows x 6 columns]"
      ]
     },
     "execution_count": 8,
     "metadata": {},
     "output_type": "execute_result"
    }
   ],
   "source": [
    "bkg_path = 'df_Data.pickle'\n",
    "signal = 'df_MC.pickle'\n",
    "\n",
    "df_bkg = pd.read_pickle(bkg_path)       \n",
    "df_signal = pd.read_pickle(signal)\n",
    "\n",
    "#### necesitamos la etiqueta de cada instancia para poder entrenar un modelo supervisado.\n",
    "#### creamos una nueva columna que sea la etiqueta de la clase\n",
    "df_bkg['label'] = 0  # Asignamos la etiqueta 0 para el background\n",
    "df_signal['label'] = 1  # Asignamos la etiqueta 1 para la señal\n",
    "\n",
    "### juntamos los dos DataFrames \n",
    "df_total = pd.concat([df_bkg, df_signal], ignore_index=True)\n",
    "df_total"
   ]
  },
  {
   "cell_type": "markdown",
   "metadata": {},
   "source": [
    "#### Train test split"
   ]
  },
  {
   "cell_type": "markdown",
   "metadata": {},
   "source": [
    "Una vez etiquetados, lo que debemos hacer es separar nuestros datos en un train set y en un test set:\n",
    "\n",
    "\n",
    "***Train set (conjunto de entrenamiento)***\n",
    "\n",
    "Es el conjunto de datos que se utiliza para entrenar al modelo. Aquí es donde el modelo aprende las relaciones entre las features y las etiquetas.\n",
    "\n",
    "***Test set (conjunto de prueba)***\n",
    "\n",
    "Es un conjunto completamente separado que se utiliza únicamente para evaluar el rendimiento del modelo una vez que ha sido entrenado. El modelo no ve estos datos durante el entrenamiento.\n",
    "\n",
    "Estos sets deben ser completamente independientes entre si porque si el modelo entrena y se evalúa sobre los mismos datos, puede memorizar los ejemplos en lugar de aprender patrones generales. Esto se conoce como ***overfitting***, y significa que el modelo funciona muy bien con los datos conocidos, pero falla al enfrentarse a datos nuevos. Es el equivalente a intentar hacer una regresion lineal con un polinomio de grado alto: funciona bien en el fitting pero el modelo no es el correcto.\n",
    "\n",
    "![](./figs/underoverfitting.png)\n"
   ]
  },
  {
   "cell_type": "code",
   "execution_count": 9,
   "metadata": {},
   "outputs": [],
   "source": [
    "\n",
    "features = ['Bp_DIRA_OWNPV', 'Bp_ENDVERTEX_Z', 'Bp_dtf_chi2', 'D0bar_AMAXDOCA']\n",
    "X = df_total[features]\n",
    "y = df_total['label']\n",
    "\n",
    "X_train, X_test, y_train, y_test = train_test_split(X, y, test_size=0.2, random_state=42)\n"
   ]
  },
  {
   "cell_type": "markdown",
   "metadata": {},
   "source": [
    "#### Decision tree\n",
    "\n",
    "Una vez divididos nuestros datos de entrenamiento, vamos a entrenar uno de los algoritmos mas sencillos de Machine Learning, un Decision Tree. Un Decision Tree (DT) es una algoritmo de ML  que toma decisiones dividiendo los datos en diferentes ramas, según los valores de ciertas variables. Por ejemplo, podría empezar preguntando si una variable como Bp_DIRA_OWNPV es mayor que cierto valor, y luego seguir dividiendo según otras condiciones. Al final, cada rama lleva a una predicción: si un evento es fondo o señal.\n",
    "\n",
    "<img src=\"./figs/dt.jpg\" alt=\"Árbol de decisión\" width=\"600\"/>\n",
    "\n"
   ]
  },
  {
   "cell_type": "markdown",
   "metadata": {},
   "source": [
    "Como se entrena? Es muy sencillo:"
   ]
  },
  {
   "cell_type": "code",
   "execution_count": 10,
   "metadata": {},
   "outputs": [
    {
     "data": {
      "text/html": [
       "<style>#sk-container-id-1 {color: black;background-color: white;}#sk-container-id-1 pre{padding: 0;}#sk-container-id-1 div.sk-toggleable {background-color: white;}#sk-container-id-1 label.sk-toggleable__label {cursor: pointer;display: block;width: 100%;margin-bottom: 0;padding: 0.3em;box-sizing: border-box;text-align: center;}#sk-container-id-1 label.sk-toggleable__label-arrow:before {content: \"▸\";float: left;margin-right: 0.25em;color: #696969;}#sk-container-id-1 label.sk-toggleable__label-arrow:hover:before {color: black;}#sk-container-id-1 div.sk-estimator:hover label.sk-toggleable__label-arrow:before {color: black;}#sk-container-id-1 div.sk-toggleable__content {max-height: 0;max-width: 0;overflow: hidden;text-align: left;background-color: #f0f8ff;}#sk-container-id-1 div.sk-toggleable__content pre {margin: 0.2em;color: black;border-radius: 0.25em;background-color: #f0f8ff;}#sk-container-id-1 input.sk-toggleable__control:checked~div.sk-toggleable__content {max-height: 200px;max-width: 100%;overflow: auto;}#sk-container-id-1 input.sk-toggleable__control:checked~label.sk-toggleable__label-arrow:before {content: \"▾\";}#sk-container-id-1 div.sk-estimator input.sk-toggleable__control:checked~label.sk-toggleable__label {background-color: #d4ebff;}#sk-container-id-1 div.sk-label input.sk-toggleable__control:checked~label.sk-toggleable__label {background-color: #d4ebff;}#sk-container-id-1 input.sk-hidden--visually {border: 0;clip: rect(1px 1px 1px 1px);clip: rect(1px, 1px, 1px, 1px);height: 1px;margin: -1px;overflow: hidden;padding: 0;position: absolute;width: 1px;}#sk-container-id-1 div.sk-estimator {font-family: monospace;background-color: #f0f8ff;border: 1px dotted black;border-radius: 0.25em;box-sizing: border-box;margin-bottom: 0.5em;}#sk-container-id-1 div.sk-estimator:hover {background-color: #d4ebff;}#sk-container-id-1 div.sk-parallel-item::after {content: \"\";width: 100%;border-bottom: 1px solid gray;flex-grow: 1;}#sk-container-id-1 div.sk-label:hover label.sk-toggleable__label {background-color: #d4ebff;}#sk-container-id-1 div.sk-serial::before {content: \"\";position: absolute;border-left: 1px solid gray;box-sizing: border-box;top: 0;bottom: 0;left: 50%;z-index: 0;}#sk-container-id-1 div.sk-serial {display: flex;flex-direction: column;align-items: center;background-color: white;padding-right: 0.2em;padding-left: 0.2em;position: relative;}#sk-container-id-1 div.sk-item {position: relative;z-index: 1;}#sk-container-id-1 div.sk-parallel {display: flex;align-items: stretch;justify-content: center;background-color: white;position: relative;}#sk-container-id-1 div.sk-item::before, #sk-container-id-1 div.sk-parallel-item::before {content: \"\";position: absolute;border-left: 1px solid gray;box-sizing: border-box;top: 0;bottom: 0;left: 50%;z-index: -1;}#sk-container-id-1 div.sk-parallel-item {display: flex;flex-direction: column;z-index: 1;position: relative;background-color: white;}#sk-container-id-1 div.sk-parallel-item:first-child::after {align-self: flex-end;width: 50%;}#sk-container-id-1 div.sk-parallel-item:last-child::after {align-self: flex-start;width: 50%;}#sk-container-id-1 div.sk-parallel-item:only-child::after {width: 0;}#sk-container-id-1 div.sk-dashed-wrapped {border: 1px dashed gray;margin: 0 0.4em 0.5em 0.4em;box-sizing: border-box;padding-bottom: 0.4em;background-color: white;}#sk-container-id-1 div.sk-label label {font-family: monospace;font-weight: bold;display: inline-block;line-height: 1.2em;}#sk-container-id-1 div.sk-label-container {text-align: center;}#sk-container-id-1 div.sk-container {/* jupyter's `normalize.less` sets `[hidden] { display: none; }` but bootstrap.min.css set `[hidden] { display: none !important; }` so we also need the `!important` here to be able to override the default hidden behavior on the sphinx rendered scikit-learn.org. See: https://github.com/scikit-learn/scikit-learn/issues/21755 */display: inline-block !important;position: relative;}#sk-container-id-1 div.sk-text-repr-fallback {display: none;}</style><div id=\"sk-container-id-1\" class=\"sk-top-container\"><div class=\"sk-text-repr-fallback\"><pre>DecisionTreeClassifier()</pre><b>In a Jupyter environment, please rerun this cell to show the HTML representation or trust the notebook. <br />On GitHub, the HTML representation is unable to render, please try loading this page with nbviewer.org.</b></div><div class=\"sk-container\" hidden><div class=\"sk-item\"><div class=\"sk-estimator sk-toggleable\"><input class=\"sk-toggleable__control sk-hidden--visually\" id=\"sk-estimator-id-1\" type=\"checkbox\" checked><label for=\"sk-estimator-id-1\" class=\"sk-toggleable__label sk-toggleable__label-arrow\">DecisionTreeClassifier</label><div class=\"sk-toggleable__content\"><pre>DecisionTreeClassifier()</pre></div></div></div></div></div>"
      ],
      "text/plain": [
       "DecisionTreeClassifier()"
      ]
     },
     "execution_count": 10,
     "metadata": {},
     "output_type": "execute_result"
    }
   ],
   "source": [
    "\n",
    "dt = DecisionTreeClassifier() # Creamos el clasificador\n",
    "dt.fit(X_train, y_train)      # Entrenamos el clasificador con los datos de entrenamiento"
   ]
  },
  {
   "cell_type": "markdown",
   "metadata": {},
   "source": [
    "Una vez entrenado, podemos hacer una prediccion sobre la muestra de test y la muestra de train."
   ]
  },
  {
   "cell_type": "code",
   "execution_count": 11,
   "metadata": {},
   "outputs": [],
   "source": [
    "y_pred_test = dt.predict(X_test)\n",
    "y_pred_train = dt.predict(X_train)\n"
   ]
  },
  {
   "cell_type": "markdown",
   "metadata": {},
   "source": [
    "Para ver si el modelo se ha sobreajustado a los datos (overfitting), podemos comparar la accuracy en el test set y en el train set:"
   ]
  },
  {
   "cell_type": "code",
   "execution_count": 12,
   "metadata": {},
   "outputs": [
    {
     "name": "stdout",
     "output_type": "stream",
     "text": [
      "Exactitud del DT sobre el train set: 1.00\n",
      "Exactitud del DT sobre el test set: 0.89\n"
     ]
    }
   ],
   "source": [
    "accuracy_test = accuracy_score(y_test, y_pred_test)\n",
    "accuracy_train = accuracy_score(y_train, y_pred_train)\n",
    "\n",
    "print(f\"Exactitud del DT sobre el train set: {accuracy_train:.2f}\")\n",
    "print(f\"Exactitud del DT sobre el test set: {accuracy_test:.2f}\")"
   ]
  },
  {
   "cell_type": "markdown",
   "metadata": {},
   "source": [
    "Vemos que ha hecho overfitting, ya que la exactitud en el train set es muy alta (del 100%) y en el test set es mucho menor. Esto se puede deber a que el modelo es demasiado complejo. Podemos solucionar esto limitando la profundidad del decision tree"
   ]
  },
  {
   "cell_type": "code",
   "execution_count": 13,
   "metadata": {},
   "outputs": [
    {
     "data": {
      "text/html": [
       "<style>#sk-container-id-2 {color: black;background-color: white;}#sk-container-id-2 pre{padding: 0;}#sk-container-id-2 div.sk-toggleable {background-color: white;}#sk-container-id-2 label.sk-toggleable__label {cursor: pointer;display: block;width: 100%;margin-bottom: 0;padding: 0.3em;box-sizing: border-box;text-align: center;}#sk-container-id-2 label.sk-toggleable__label-arrow:before {content: \"▸\";float: left;margin-right: 0.25em;color: #696969;}#sk-container-id-2 label.sk-toggleable__label-arrow:hover:before {color: black;}#sk-container-id-2 div.sk-estimator:hover label.sk-toggleable__label-arrow:before {color: black;}#sk-container-id-2 div.sk-toggleable__content {max-height: 0;max-width: 0;overflow: hidden;text-align: left;background-color: #f0f8ff;}#sk-container-id-2 div.sk-toggleable__content pre {margin: 0.2em;color: black;border-radius: 0.25em;background-color: #f0f8ff;}#sk-container-id-2 input.sk-toggleable__control:checked~div.sk-toggleable__content {max-height: 200px;max-width: 100%;overflow: auto;}#sk-container-id-2 input.sk-toggleable__control:checked~label.sk-toggleable__label-arrow:before {content: \"▾\";}#sk-container-id-2 div.sk-estimator input.sk-toggleable__control:checked~label.sk-toggleable__label {background-color: #d4ebff;}#sk-container-id-2 div.sk-label input.sk-toggleable__control:checked~label.sk-toggleable__label {background-color: #d4ebff;}#sk-container-id-2 input.sk-hidden--visually {border: 0;clip: rect(1px 1px 1px 1px);clip: rect(1px, 1px, 1px, 1px);height: 1px;margin: -1px;overflow: hidden;padding: 0;position: absolute;width: 1px;}#sk-container-id-2 div.sk-estimator {font-family: monospace;background-color: #f0f8ff;border: 1px dotted black;border-radius: 0.25em;box-sizing: border-box;margin-bottom: 0.5em;}#sk-container-id-2 div.sk-estimator:hover {background-color: #d4ebff;}#sk-container-id-2 div.sk-parallel-item::after {content: \"\";width: 100%;border-bottom: 1px solid gray;flex-grow: 1;}#sk-container-id-2 div.sk-label:hover label.sk-toggleable__label {background-color: #d4ebff;}#sk-container-id-2 div.sk-serial::before {content: \"\";position: absolute;border-left: 1px solid gray;box-sizing: border-box;top: 0;bottom: 0;left: 50%;z-index: 0;}#sk-container-id-2 div.sk-serial {display: flex;flex-direction: column;align-items: center;background-color: white;padding-right: 0.2em;padding-left: 0.2em;position: relative;}#sk-container-id-2 div.sk-item {position: relative;z-index: 1;}#sk-container-id-2 div.sk-parallel {display: flex;align-items: stretch;justify-content: center;background-color: white;position: relative;}#sk-container-id-2 div.sk-item::before, #sk-container-id-2 div.sk-parallel-item::before {content: \"\";position: absolute;border-left: 1px solid gray;box-sizing: border-box;top: 0;bottom: 0;left: 50%;z-index: -1;}#sk-container-id-2 div.sk-parallel-item {display: flex;flex-direction: column;z-index: 1;position: relative;background-color: white;}#sk-container-id-2 div.sk-parallel-item:first-child::after {align-self: flex-end;width: 50%;}#sk-container-id-2 div.sk-parallel-item:last-child::after {align-self: flex-start;width: 50%;}#sk-container-id-2 div.sk-parallel-item:only-child::after {width: 0;}#sk-container-id-2 div.sk-dashed-wrapped {border: 1px dashed gray;margin: 0 0.4em 0.5em 0.4em;box-sizing: border-box;padding-bottom: 0.4em;background-color: white;}#sk-container-id-2 div.sk-label label {font-family: monospace;font-weight: bold;display: inline-block;line-height: 1.2em;}#sk-container-id-2 div.sk-label-container {text-align: center;}#sk-container-id-2 div.sk-container {/* jupyter's `normalize.less` sets `[hidden] { display: none; }` but bootstrap.min.css set `[hidden] { display: none !important; }` so we also need the `!important` here to be able to override the default hidden behavior on the sphinx rendered scikit-learn.org. See: https://github.com/scikit-learn/scikit-learn/issues/21755 */display: inline-block !important;position: relative;}#sk-container-id-2 div.sk-text-repr-fallback {display: none;}</style><div id=\"sk-container-id-2\" class=\"sk-top-container\"><div class=\"sk-text-repr-fallback\"><pre>DecisionTreeClassifier(max_depth=4)</pre><b>In a Jupyter environment, please rerun this cell to show the HTML representation or trust the notebook. <br />On GitHub, the HTML representation is unable to render, please try loading this page with nbviewer.org.</b></div><div class=\"sk-container\" hidden><div class=\"sk-item\"><div class=\"sk-estimator sk-toggleable\"><input class=\"sk-toggleable__control sk-hidden--visually\" id=\"sk-estimator-id-2\" type=\"checkbox\" checked><label for=\"sk-estimator-id-2\" class=\"sk-toggleable__label sk-toggleable__label-arrow\">DecisionTreeClassifier</label><div class=\"sk-toggleable__content\"><pre>DecisionTreeClassifier(max_depth=4)</pre></div></div></div></div></div>"
      ],
      "text/plain": [
       "DecisionTreeClassifier(max_depth=4)"
      ]
     },
     "execution_count": 13,
     "metadata": {},
     "output_type": "execute_result"
    }
   ],
   "source": [
    "dt = DecisionTreeClassifier(max_depth = 4)\n",
    "dt.fit(X_train, y_train)     "
   ]
  },
  {
   "cell_type": "code",
   "execution_count": 14,
   "metadata": {},
   "outputs": [
    {
     "name": "stdout",
     "output_type": "stream",
     "text": [
      "Exactitud del BDT sobre el train set: 0.91\n",
      "Exactitud del BDT sobre el test set: 0.91\n"
     ]
    }
   ],
   "source": [
    "y_pred_test = dt.predict(X_test)\n",
    "y_pred_train = dt.predict(X_train)\n",
    "accuracy_test = accuracy_score(y_test, y_pred_test)\n",
    "accuracy_train = accuracy_score(y_train, y_pred_train)\n",
    "print(f\"Exactitud del BDT sobre el train set: {accuracy_train:.2f}\")\n",
    "print(f\"Exactitud del BDT sobre el test set: {accuracy_test:.2f}\")"
   ]
  },
  {
   "cell_type": "markdown",
   "metadata": {},
   "source": [
    "Ahora vemos que la exactitud es igual en los dos casos, lo que nos indica que ya no hay overfitting. "
   ]
  },
  {
   "cell_type": "markdown",
   "metadata": {},
   "source": [
    "Como vemos, con este modelo super sencillo ya hemos obtenido un 91% de accuracy clasificando eventos de señal y ruido, lo cual es genial pero no siempre es asi... Este ejemplo es muy sencillo, pero hay casos en los que la complejidad de la relacion entre las variables o el numero de variables son tan altos que un modelo tan simple no nos llega. "
   ]
  }
 ],
 "metadata": {
  "kernelspec": {
   "display_name": "base",
   "language": "python",
   "name": "python3"
  },
  "language_info": {
   "codemirror_mode": {
    "name": "ipython",
    "version": 3
   },
   "file_extension": ".py",
   "mimetype": "text/x-python",
   "name": "python",
   "nbconvert_exporter": "python",
   "pygments_lexer": "ipython3",
   "version": "3.11.7"
  }
 },
 "nbformat": 4,
 "nbformat_minor": 2
}
